{
 "cells": [
  {
   "cell_type": "code",
   "execution_count": 1,
   "metadata": {},
   "outputs": [],
   "source": [
    "from pathlib import Path\n",
    "import numpy as np\n",
    "import tifffile\n",
    "from skimage.exposure import match_histograms, rescale_intensity\n",
    "from skimage.restoration import calibrate_denoiser, denoise_tv_chambolle\n",
    "import matplotlib.pyplot as plt\n",
    "from tqdm import tqdm\n",
    "import os\n",
    "import cv2 as cv\n",
    "\n"
   ]
  },
  {
   "cell_type": "code",
   "execution_count": null,
   "metadata": {},
   "outputs": [],
   "source": [
    "fname_SI = '020425\\\\Analysis_022025\\\\HiLo_Python\\\\first_9999.tif'\n",
    "#fname_UI = '020425\\\\Analysis_022025\\\\HiLo_Python\\\\first_9999_pWF.tif'\n",
    "    \n",
    "input_file_path_SI = Path(fname_SI)\n",
    "#input_file_path_UI = Path(fname_UI)\n",
    "root_path = input_file_path_SI.parents[0]\n",
    "img_SI = tifffile.imread(input_file_path_SI)\n",
    "img_SI = img_SI.astype(np.float32)\n",
    "#img_UI = tifffile.imread(input_file_path_UI)\n",
    "#img_UI = img_UI.astype(np.float32)\n",
    "nt = img_SI.shape[0]\n",
    "ny = img_SI.shape[1]\n",
    "nx = img_SI.shape[2]\n"
   ]
  },
  {
   "cell_type": "code",
   "execution_count": 28,
   "metadata": {},
   "outputs": [],
   "source": [
    "ks = 101\n",
    "kf = 17\n",
    "\n",
    "img_SI_LA = np.zeros((nt-2,ny,nx),dtype=np.float32)\n",
    "img_UI_LA = np.zeros((nt-2,ny,nx),dtype=np.float32)\n",
    "CP = np.zeros((nt-2,ny,nx),dtype=np.float32)\n",
    "I_Lo = np.zeros((nt-2,ny,nx),dtype=np.float32)\n",
    "OS = np.zeros((nt-2,ny,nx),dtype=np.float32)\n",
    "R_Lo = np.zeros((nt-2,ny,nx),dtype=np.float32)\n",
    "WF = np.zeros((nt-2,ny,nx),dtype=np.float32)\n",
    "\n",
    "\n",
    "for i in range(nt-2): \n",
    "    \n",
    "    im1 = img_SI[i,:,:]\n",
    "    im2 = img_SI[i+1,:,:]\n",
    "    im3 = img_SI[i+2,:,:]\n",
    "    \n",
    "    OS[i,:,:] = (3/np.sqrt(2))*np.sqrt((im1-im2)**2 + (im2-im3)**2 + (im3-im1)**2)\n",
    "    WF[i,:,:] = (1/3)*(im1 + im2 + im3)\n",
    "    R_Lo[i,:,:] = cv.GaussianBlur(OS[i,:,:], (kf,kf), 0)\n",
    "    \n",
    "    img_SI_LA[i,:,:] = cv.GaussianBlur(img_SI[i,:,:], (ks,ks), 0)\n",
    "    img_UI_LA[i,:,:] = cv.GaussianBlur(WF[i,:,:], (ks,ks), 0)\n",
    "\n",
    "\n",
    "\n",
    "    CP[i,:,:] = cv.GaussianBlur(np.absolute(img_SI[i,:,:] - WF[i,:,:]), (ks,ks), 0) \n",
    "    I_Lo[i,:,:] = cv.GaussianBlur(CP[i,:,:]*WF[i,:,:], (kf,kf), 0) \n",
    "\n",
    "I_Lo = rescale_intensity(I_Lo,out_range=(0,65535)).astype(np.uint16)\n",
    "R_Lo = rescale_intensity(R_Lo,out_range=(0,65535)).astype(np.uint16)\n",
    "OS = rescale_intensity(OS,out_range=(0,65535)).astype(np.uint16)\n",
    "WF = rescale_intensity(WF,out_range=(0,65535)).astype(np.uint16)\n",
    "\n",
    "tifffile.imsave(fname_SI[:-4]+'_WF.tif', WF[:,:,:])\n",
    "tifffile.imsave(fname_SI[:-4]+'_R_Lo.tif', R_Lo[:,:,:])\n",
    "tifffile.imsave(fname_SI[:-4]+'_Lo.tif', I_Lo[:,:,:])\n",
    "tifffile.imsave(fname_SI[:-4]+'_OS.tif', OS[:,:,:])\n",
    "\n",
    "\n",
    "\n"
   ]
  }
 ],
 "metadata": {
  "kernelspec": {
   "display_name": "mescore",
   "language": "python",
   "name": "python3"
  },
  "language_info": {
   "codemirror_mode": {
    "name": "ipython",
    "version": 3
   },
   "file_extension": ".py",
   "mimetype": "text/x-python",
   "name": "python",
   "nbconvert_exporter": "python",
   "pygments_lexer": "ipython3",
   "version": "3.10.8"
  }
 },
 "nbformat": 4,
 "nbformat_minor": 2
}
